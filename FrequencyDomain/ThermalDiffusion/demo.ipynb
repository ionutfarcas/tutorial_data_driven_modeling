{
 "cells": [
  {
   "cell_type": "markdown",
   "metadata": {},
   "source": [
    "# Discretizing Thermal Diffusion\n",
    "In this example, we use the Loewner framework to create a finite-dimensional reduced-order model directly from a partial differential equation. This example uses the basics discussed in the [mass-spring-damper example](../MassSpringDamper/demo.ipynb). Therefore, it is recommended to finish that example before continuoing here.\n",
    "\n",
    "We consider the one-dimensional heat equation with radiation of the form\n",
    "\n",
    "$$\n",
    "\\tag{5.1}\n",
    "\\frac{\\partial T}{\\partial t} = \\kappa \\frac{\\partial^{2} T}{\\partial x^{2}} - \\beta T,\n",
    "$$\n",
    "\n",
    "with $\\kappa = \\frac{\\lambda}{\\rho \\gamma}$, where $\\lambda$ is the thermal conductivity, $\\rho$ is the density and $\\gamma$ is the specific heat capacity of the material, and $\\beta T$ models the heat loss due to radiation. The solution $T(t, x)$ models the heat in the one-dimensional domain. For the boundary of the domain $x \\in [x_{\\min}, x_{\\max}]$, we have external forcing on the left side and temperature observations on the right\n",
    "\n",
    "$$\n",
    "T(t, x_{\\min}) = u(t) \\quad \\text{and} \\quad y(t) = T(t, x_{\\max}).\n",
    "$$\n",
    "\n",
    "This linear partial differential equation $(5.1)$ with the boundary condition and observation can be equivalently be described in the frequency domain via\n",
    "\n",
    "$$ \\tag{5.2}\n",
    "Y(s) = G(s) U(s) = \\underbrace{\\left( e^{-a \\sqrt{(s + \\mu)\\kappa^{-1}}} \\right)}_{G(s)} U(s),\n",
    "$$\n",
    "\n",
    "where $a = x_{\\max} - x_{\\min}$ is the length of the domain, $Y(s)$ and $U(s)$ are the Laplace transforms of the heat inflow and the observagtions, and $G(s)$ is the systems transfer function.\n",
    "\n",
    "The goal in this example is to use evaluations the transfer function in $(5.2)$ to derive a reduced-order linear time-invariant finite-dimensional system of ordinary differential equations that describe the dynamics of the partial differential equation $(5.1)$ without constructing an intermediate discretization.\n",
    "The advantage of working with the transfer function is that the discretization that we create is directly targeted towards the input-to-output (heat inflow to observation) behavior of the dynamical system $(5.1)$ without the intermediate step of describing the complete internal system behavior. The finite-dimensional reduced-order model will be given via the transfer function\n",
    "\n",
    "$$ \\tag{5.3}\n",
    "\\widehat{G}(s) = \\widehat{\\mathbf{c}}^{\\mathsf{T}} (s \\widehat{\\mathbf{E}} - \\widehat{\\mathbf{A}})^{-1} \\widehat{\\mathbf{b}},\n",
    "$$\n",
    "\n",
    "which we can interprete in the time domain as a system of generalized ordinary differential equations of the form\n",
    "\n",
    "$$\n",
    "\\begin{aligned}\n",
    "  \\widehat{\\mathbf{E}} \\dot{\\widehat{\\mathbf{q}}}(t) & = \\widehat{\\mathbf{A}}\\widehat{\\mathbf{q}}(t) + \\widehat{\\mathbf{b}} u(t), \\\\\n",
    "  \\widehat{y}(t) & = \\widehat{\\mathbf{c}}^{\\mathsf{T}} \\widehat{\\mathbf{q}}(t),\n",
    "\\end{aligned}\n",
    "$$\n",
    "\n",
    "with $\\widehat{\\mathbf{A}}, \\widehat{\\mathbf{E}} \\in \\mathbb{R}^{r \\times r}$, $\\widehat{\\mathbf{b}}, \\widehat{\\mathbf{c}} \\in \\mathbb{R}^{r}$ and the state-space dimension $r$ small."
   ]
  },
  {
   "cell_type": "markdown",
   "metadata": {},
   "source": [
    "First, we import some standard Python packages for our computations and the visualization."
   ]
  },
  {
   "cell_type": "code",
   "execution_count": null,
   "metadata": {},
   "outputs": [],
   "source": [
    "import numpy as np\n",
    "import numpy.linalg as la\n",
    "import scipy.sparse as sparse\n",
    "import scipy.linalg as spla\n",
    "import matplotlib.pyplot as plt"
   ]
  },
  {
   "cell_type": "markdown",
   "metadata": {},
   "source": [
    "System construction and some visualization routines are implemented in the file [utils.py](./utils.py)."
   ]
  },
  {
   "cell_type": "code",
   "execution_count": null,
   "metadata": {},
   "outputs": [],
   "source": [
    "import utils\n",
    "\n",
    "utils.configure_matplotlib(latex_is_installed = True)"
   ]
  },
  {
   "cell_type": "markdown",
   "metadata": {},
   "source": [
    "Besides the `SISO` class that implements linear systems with `A, b, c, E` matrices and transfer function $(5.3)$, this file also implements the class `ThermalDiffusion` that creates a model of the thermal diffusion process with the transfer function $(5.2)$."
   ]
  },
  {
   "cell_type": "markdown",
   "metadata": {},
   "source": [
    "Let's create an instance of the thermal diffusion model. The parameters have been chosen for the case of a cast iron rod:"
   ]
  },
  {
   "cell_type": "code",
   "execution_count": null,
   "metadata": {},
   "outputs": [],
   "source": [
    "thermal_model = utils.ThermalDiffusion(\n",
    "    length       = 0.5,\n",
    "    conductivity = 55.0,\n",
    "    density      = 6.55,\n",
    "    capacity     = 460.548,\n",
    "    radiation    = 1.0\n",
    ")"
   ]
  },
  {
   "cell_type": "markdown",
   "metadata": {},
   "source": [
    "Note that `fom_model` implements an infinite-dimensional model for which at this point we do not have a finite-dimensional realization available yet.\n",
    "We can only evaluate its transfer function, which we will use in the following to construct the finite-dimensional reduced-order representation."
   ]
  },
  {
   "cell_type": "markdown",
   "metadata": {},
   "source": [
    "# Step 1: Generate sampling data\n",
    "First, we need to sample the scalar transfer function in complex points. While any point in $\\mathbb{C}$ that is not a pole of $(5.2)$ would be suitable, the go to choice is the positive imaginary axis. We choose the evaluation points logarithmically equidistant to cover a reasonably large range of frequencies. Feel free to modify the number of sampling points `num_samples` in the code below, but note that we will double the amount of generated data later for the generation of a reduced-order model with real matrices."
   ]
  },
  {
   "cell_type": "code",
   "execution_count": null,
   "metadata": {},
   "outputs": [],
   "source": [
    "# Number of sampling points (must be an even number).\n",
    "num_samples = 100\n",
    "\n",
    "# Sample the transfer function.\n",
    "training_frequencies = np.logspace(-2, 2, num_samples)\n",
    "training_responses   = thermal_model.transfer_function(1j * training_frequencies)"
   ]
  },
  {
   "cell_type": "markdown",
   "metadata": {},
   "source": [
    "To get a first impression of the data and the transfer function we need to fit, we visualize the generated data by plotting the magnitudes of the frequency responses over the real-valued frequencies."
   ]
  },
  {
   "cell_type": "code",
   "execution_count": null,
   "metadata": {},
   "outputs": [],
   "source": [
    "ax = utils.plot_response(\n",
    "    training_frequencies,\n",
    "    training_responses,\n",
    "    linestyle = '',\n",
    "    marker    = '.',\n",
    "    label     = \"Transfer function data\"\n",
    ")\n",
    "ax.legend(loc = \"lower left\")\n",
    "plt.show()"
   ]
  },
  {
   "cell_type": "markdown",
   "metadata": {},
   "source": [
    "# Step 2: Data preparations\n",
    "As mentioned in the beginning, we will use the Loewner framework to generate a suitable linear reduced-order model. Before we prepare the data for the construction of the Loewner matrices, we need to have a closer look at the transfer function $G(s)$ in $(5.2)$. We can see that\n",
    "\n",
    "$$\n",
    "\\overline{G(s)} = G(\\overline{s})\n",
    "$$\n",
    "\n",
    "holds. To be save, let's verify this for our generated data points."
   ]
  },
  {
   "cell_type": "code",
   "execution_count": null,
   "metadata": {},
   "outputs": [],
   "source": [
    "# Sample in the complex conjugate points.\n",
    "conjugate_response = thermal_model.transfer_function(-1j * training_frequencies)\n",
    "\n",
    "# Verify complex conjugation of data.\n",
    "np.allclose(training_responses, conjugate_response.conj())"
   ]
  },
  {
   "cell_type": "markdown",
   "metadata": {},
   "source": [
    "This means that the transfer function has the same property as the transfer function of a first-order model with real matrices. Therefore, we should generate a real finite-dimensional model by including the complex conjugates of our training data."
   ]
  },
  {
   "cell_type": "markdown",
   "metadata": {},
   "source": [
    "Now that we know the complete training data to include, we can separate the complete data set into left and right $(\\mu_{\\operatorname{\\ell}}, g_{\\operatorname{\\ell}})$ and $(\\mu_{\\operatorname{r}}, g_{\\operatorname{r}})$, where additionally we want to include the complex conjugate data so that \n",
    "\n",
    "$$\n",
    "\\begin{aligned}\n",
    "  \\mu_{\\operatorname{\\ell}} & = \\{ \\mu_{\\operatorname{\\ell}, 1}, \\overline{\\mu_{\\operatorname{\\ell}, 1}}, \\mu_{\\operatorname{\\ell}, 2}, \\overline{\\mu_{\\operatorname{\\ell}, 2}}, \\ldots  \\}, &\n",
    "  g_{\\operatorname{\\ell}} & = \\{ g_{\\operatorname{\\ell}, 1}, \\overline{g_{\\operatorname{\\ell}, 1}}, g_{\\operatorname{\\ell}, 2}, \\overline{g_{\\operatorname{\\ell}, 2}}, \\ldots \\}, \\\\\n",
    "  \\mu_{\\operatorname{r}} & = \\{ \\mu_{\\operatorname{r}, 1}, \\overline{u_{\\operatorname{r}, 1}}, u_{\\operatorname{r}, 2}, \\overline{u_{\\operatorname{r}, 2}}, \\ldots  \\}, &\n",
    "  g_{\\operatorname{r}} & = \\{ g_{\\operatorname{r}, 1}, \\overline{g_{\\operatorname{r}, 1}}, g_{\\operatorname{r}, 2}, \\overline{g_{\\operatorname{r}, 2}}, \\ldots \\}.\n",
    "\\end{aligned}\n",
    "$$\n",
    "\n",
    "holds. Remember that left and right data should be of equal size."
   ]
  },
  {
   "cell_type": "code",
   "execution_count": null,
   "metadata": {},
   "outputs": [],
   "source": [
    "# Function to arrange the complex conjugate structure correctly.\n",
    "def insert_conjugates(arr):\n",
    "    \"\"\"From an array [x1, x2, ...], form [x1, conj(x1), x2, conj(x2), ...]\"\"\"\n",
    "    new_arr       = np.empty(len(arr) * 2, dtype = complex)\n",
    "    new_arr[::2]  = arr\n",
    "    new_arr[1::2] = arr.conj()\n",
    "    return new_arr\n",
    "\n",
    "# Data splitting.\n",
    "mu_l = insert_conjugates(1j * training_frequencies[::2])\n",
    "mu_r = insert_conjugates(1j * training_frequencies[1::2])\n",
    "g_l  = insert_conjugates(training_responses[::2])\n",
    "g_r  = insert_conjugates(training_responses[1::2])\n",
    "\n",
    "print(\n",
    "    \"Size of left data\",\n",
    "    (len(mu_l), len(g_l)),\n",
    "    \"Size of right data\",\n",
    "    (len(mu_r), len(g_r)),\n",
    "    sep=\"\\n\"\n",
    ")"
   ]
  },
  {
   "cell_type": "markdown",
   "metadata": {},
   "source": [
    "**Imporant:** Remember that in the Loewner framework, we will create matrices with dimensions of the size of these data sets. This does not correspond to the final order of the model that we are constructing but it is an intermediate step. You can experiment with the sizes of the data sets and the created Loewner matrices by changing the `num_samples` parameter above. To avoid dimensional problems later on, always choose `num_samples` to be an even number."
   ]
  },
  {
   "cell_type": "markdown",
   "metadata": {},
   "source": [
    "# Step 3: Set up the Loewner matrices\n",
    "Next, we create our Loewner matrices of the form\n",
    "\n",
    "$$\n",
    "\\begin{aligned}\n",
    "    \\mathbb{L}\n",
    "    &= \\begin{bmatrix}\n",
    "        \\frac{g_{\\operatorname{\\ell}, 1} - g_{\\operatorname{r}, 1}}{\\mu_{\\operatorname{\\ell}, 1} - \\mu_{\\operatorname{r}, 1}} & \\frac{g_{\\operatorname{\\ell}, 1} - g_{\\operatorname{r}, 2}}{\\mu_{\\operatorname{\\ell}, 1} - \\mu_{\\operatorname{r}, 2}} & \\cdots\n",
    "        \\\\[.25cm]\n",
    "        \\frac{g_{\\operatorname{\\ell}, 2} - g_{\\operatorname{r}, 1}}{\\mu_{\\operatorname{\\ell}, 2} - \\mu_{\\operatorname{r}, 1}} & \\frac{g_{\\operatorname{\\ell}, 2} - g_{\\operatorname{r}, 2}}{\\mu_{\\operatorname{\\ell}, 2} - \\mu_{\\operatorname{r}, 2}} &  \\cdots\n",
    "        \\\\[.25cm]\n",
    "        \\vdots & \\vdots & \\ddots\n",
    "    \\end{bmatrix} \\in \\mathbb{C}^{n_{\\operatorname{s}} \\times n_{\\operatorname{s}}},\n",
    "    &\n",
    "    \\mathbb{L}_{\\operatorname{s}} &= \\begin{bmatrix}\n",
    "        \\frac{\\mu_{\\operatorname{\\ell}, 1}g_{\\operatorname{\\ell}, 1} - \\mu_{\\operatorname{r}, 1}g_{\\operatorname{r}, 1}}{\\mu_{\\operatorname{\\ell}, 1} - \\mu_{\\operatorname{r}, 1}} & \\frac{\\mu_{\\operatorname{\\ell}, 1}g_{\\operatorname{\\ell}, 1} - \\mu_{\\operatorname{r}, 2}g_{\\operatorname{r}, 2}}{\\mu_{\\operatorname{\\ell}, 1} - \\mu_{\\operatorname{r}, 2}} & \\cdots\n",
    "        \\\\[.25cm]\n",
    "        \\frac{\\mu_{\\operatorname{\\ell}, 2}g_{\\operatorname{\\ell}, 2} - \\mu_{\\operatorname{r}, 1}g_{\\operatorname{r}, 1}}{\\mu_{\\operatorname{\\ell}, 2} - \\mu_{\\operatorname{r}, 1}} & \\frac{\\mu_{\\operatorname{\\ell}, 2} g_{\\operatorname{\\ell}, 2} - \\mu_{\\operatorname{r}, 2} g_{\\operatorname{r}, 2}}{\\mu_{\\operatorname{\\ell}, 2} - \\mu_{\\operatorname{r}, 2}} &  \\cdots\n",
    "        \\\\[.25cm]\n",
    "        \\vdots & \\vdots & \\ddots\n",
    "    \\end{bmatrix} \\in \\mathbb{C}^{n_{\\operatorname{s}} \\times n_{\\operatorname{s}}},\n",
    "    \\\\\n",
    "    \\mathbf{B}_{\\mathbb{L}}\n",
    "    &= \\begin{bmatrix}\n",
    "        g_{\\operatorname{\\ell}, 1} \\\\\n",
    "        g_{\\operatorname{\\ell}, 2} \\\\\n",
    "        \\vdots\n",
    "    \\end{bmatrix} \\in \\mathbb{C}^{n_{\\operatorname{s}}},\n",
    "    &\n",
    "    \\mathbf{C}_{\\mathbb{L}}\n",
    "    & = \\left[\\begin{array}{ccc}\n",
    "        g_{\\operatorname{r}, 1} & g_{\\operatorname{r}, 2} & \\cdots\n",
    "    \\end{array}\\right] \\in \\mathbb{C}^{n_{\\operatorname{s}}},\n",
    "\\end{aligned}\n",
    "$$\n",
    "\n",
    "by using our prepared and separated data sets. Here, the number $n_{\\operatorname{s}}$ is given by the parameter `num_samples` from above (or equivalently the size of the left and right data sets). Note that at this point, the constructed Loewner matrices are still complex."
   ]
  },
  {
   "cell_type": "code",
   "execution_count": null,
   "metadata": {},
   "outputs": [],
   "source": [
    "# Change vector format for broadcasting.\n",
    "k    = len(mu_l)\n",
    "g_l  = g_l.reshape((k, 1))\n",
    "mu_l = mu_l.reshape((k, 1))\n",
    "\n",
    "# Construct matrices.\n",
    "L  = (g_l - g_r) / (mu_l - mu_r)\n",
    "Ls = ((mu_l * g_l) - (mu_r * g_r)) / (mu_l - mu_r)\n",
    "BL = g_l.reshape((k,))\n",
    "CL = g_r\n",
    "\n",
    "# Verify size of the Loewner system.\n",
    "for label, arr in zip([\"L\", \"Ls\", \"BL\", \"CL\"], [L, Ls, BL, CL]):\n",
    "    print(\n",
    "        f\"Matrix '{label}' dimensions:{arr.shape}\"\n",
    "    )"
   ]
  },
  {
   "cell_type": "markdown",
   "metadata": {},
   "source": [
    "Before moving on to construct the reduced-order approximation, we need take care of the realification of the system matrices. Therefore, we to apply a state-space transformation to the Loewner matrices using\n",
    "\n",
    "$$\n",
    "    \\mathbf{J}\n",
    "    = \\mathbf{I}_{\\frac{n_{\\operatorname{s}}}{2}} \\otimes \\frac{1}{\\sqrt{2}}\n",
    "    \\left[\\begin{array}{rr}\n",
    "        1 & \\mathrm{j} \\\\ 1 & -\\mathrm{j}\n",
    "    \\end{array}\\right],\n",
    "$$\n",
    "\n",
    "which results in an equivalent system with real matrices."
   ]
  },
  {
   "cell_type": "code",
   "execution_count": null,
   "metadata": {},
   "outputs": [],
   "source": [
    "# Transformation matrix.\n",
    "J = sparse.kron(\n",
    "    sparse.eye(num_samples // 2), \\\n",
    "    sparse.coo_matrix((1 / np.sqrt(2)) * np.array([[1, 1j], [1, -1j]]))\n",
    ")\n",
    "\n",
    "# State-space transformation.\n",
    "L_real  = (J.conj().T @ (L @ J)).real\n",
    "Ls_real = (J.conj().T @ (Ls @ J)).real\n",
    "BL_real = (J.conj().T @ BL).real\n",
    "CL_real = (CL @ J).real"
   ]
  },
  {
   "cell_type": "markdown",
   "metadata": {},
   "source": [
    "# Step 4: Rank truncation and reduced-order model construction\n",
    "To create our low-dimensional model, we need to truncate the Loewner matrices appropriately using two singular value decompositions.\n"
   ]
  },
  {
   "cell_type": "code",
   "execution_count": null,
   "metadata": {},
   "outputs": [],
   "source": [
    "# Compute the singular value decompositions of the pencil matrices.\n",
    "Phi_1, s1, Psi_1T = la.svd(np.vstack((Ls_real, L_real)))  # [Ls; L]\n",
    "Phi_2, s2, Psi_2T = la.svd(np.hstack((Ls_real, L_real)))  # [Ls, L]\n",
    "\n",
    "# Visualization singular value decay to determine rank.\n",
    "utils.plot_singular_values(s1, s2)\n",
    "plt.show()"
   ]
  },
  {
   "cell_type": "markdown",
   "metadata": {},
   "source": [
    "We see that we can reach machine precision accuracy to represent the given data with the model already at order about $20$. The truncation to smaller orders will provide reasonable models but result in a larger least-squares error with respect to the given data. Looking back to the computed frequency response, we see that the transfer function magnitude for higher frequencies becomes very small. Since we can expect the Loewner approximation to be accurate up to the relative order of magnitude chosen by our tolerance, we need to choose a reasonably small tolerance to represent all the data well. \n",
    "\n",
    "**Important:** You cannot choose the tolerance too small, otherwise the matrix pencil $\\lambda \\widehat{\\mathbf{E}} - \\widehat{\\mathbf{A}}$ becomes singular. Warnings about ill-conditioning in the evaluation of the transfer function are indicators."
   ]
  },
  {
   "cell_type": "code",
   "execution_count": null,
   "metadata": {},
   "outputs": [],
   "source": [
    "# Determine the truncation rank.\n",
    "tol = 9.0e-12\n",
    "r   = np.count_nonzero(s1 > s1[1] * tol)\n",
    "\n",
    "print(\"Size of reduced-order model:\", r)"
   ]
  },
  {
   "cell_type": "markdown",
   "metadata": {},
   "source": [
    "With all done, we can finally construct our reduced-order finite-dimensional approximation of the thermal diffusion model."
   ]
  },
  {
   "cell_type": "code",
   "execution_count": null,
   "metadata": {},
   "outputs": [],
   "source": [
    "# Construct reduced-order matrices.\n",
    "Ar = -Phi_2[:, 0:r].T @ (Ls_real @ Psi_1T[:, 0:r])\n",
    "Er = -Phi_2[:, 0:r].T @ (L_real @ Psi_1T[:, 0:r])\n",
    "br = Phi_2[:, 0:r].T @ BL_real\n",
    "cr = CL_real @ Psi_1T[:, 0:r]\n",
    "\n",
    "# Define the ROM.\n",
    "loewner_model = utils.SISO(A = Ar, b = br, c = cr, E = Er)"
   ]
  },
  {
   "cell_type": "markdown",
   "metadata": {},
   "source": [
    "# Summary and evaluations\n",
    "\n",
    "## Frequency evaluation\n",
    "With our finite-dimensional model computed, we should have a closer look at what we really obtained. First, let's see how well we are approximating our original object of interest, the transfer function $G(s)$. To do so, we compute the frequency response of both the original transfer function $G(s)$ from $(5.2)$ and the transfer function of our finite-dimensional approximation over the frequency range $[10^{-2}, 10^{2}]$ rad/s. We measure the error in a pointwise relative sense\n",
    "\n",
    "$$\n",
    "\\operatorname{relerr}(\\omega) = \\frac{\\lvert G(\\mathfrak{j} \\omega) - \\widehat{G}(\\mathfrak{j} \\omega) \\rvert}{\\lvert G(\\mathfrak{j} \\omega) \\rvert}.\n",
    "$$"
   ]
  },
  {
   "cell_type": "code",
   "execution_count": null,
   "metadata": {},
   "outputs": [],
   "source": [
    "# Number of test sampling points.\n",
    "num_test = 500\n",
    "\n",
    "# Compute frequency responses.\n",
    "test_frequencies   = np.logspace(-2, 2, num_test)\n",
    "test_responses_fom = thermal_model.transfer_function(1j * test_frequencies)\n",
    "test_responses_rom = loewner_model.transfer_function(1j * test_frequencies)\n",
    "\n",
    "# Compute relative error.\n",
    "rom_relative_error = np.abs(test_responses_fom - test_responses_rom) / np.abs(\n",
    "    test_responses_fom\n",
    ")\n",
    "\n",
    "# Visualize frequency responses.\n",
    "axes = utils.plot_comparison(\n",
    "    test_frequencies, test_responses_fom, test_responses_rom, rom_relative_error\n",
    ")\n",
    "axes[0].legend(loc=\"lower left\")\n",
    "plt.show()"
   ]
  },
  {
   "cell_type": "markdown",
   "metadata": {},
   "source": [
    "For small enough truncation tolerance, there is barely any visible difference between the original transfer function and our finite-dimensional approximation. Only the relative error reveals that for higher frequencies, the approximation quality decreases but this has to be expected due to the fast decay in the magnitude of the frequency responses."
   ]
  },
  {
   "cell_type": "markdown",
   "metadata": {},
   "source": [
    "## Time domain simulation\n",
    "Typically, we are less interested in the frequency domain formulation of a thermal diffusion process rather than its time domain description, which we can use for simulations of the system. Since we directly computed the matrices representing the transfer function via the Loewner framework\n",
    "\n",
    "$$\n",
    "\\widehat{G}(s) = \\widehat{\\mathbf{c}}^{\\mathsf{T}} (s \\widehat{\\mathbf{E}} - \\widehat{\\mathbf{A}})^{-1} \\widehat{\\mathbf{b}},\n",
    "$$\n",
    "\n",
    "the corresponding time domain description is given by\n",
    "\n",
    "$$\n",
    "\\begin{aligned}\n",
    "  \\widehat{\\mathbf{E}} \\dot{\\widehat{\\mathbf{q}}}(t) & = \\widehat{\\mathbf{A}}\\widehat{\\mathbf{q}}(t) + \\widehat{\\mathbf{b}} u(t), \\\\\n",
    "  \\widehat{y}(t) & = \\widehat{\\mathbf{c}}^{\\mathsf{T}} \\widehat{\\mathbf{q}}(t).\n",
    "\\end{aligned}\n",
    "$$\n",
    "\n",
    "We can verify if our reduced-order model will give us accurate time domain simulations without testing against the original dynamical system by checking too conditions:\n",
    "* The reduced-order model is asymptotically stable.\n",
    "* The transfer function of the reduced-order model has a small approximation error in the $\\mathcal{H}_{\\infty}$-norm (supremum / worst case error norm).\n",
    "\n",
    "If these two conditions hold, it follows from the equivalence between the time and frequency domain, for the potential errors in simulations that\n",
    "\n",
    "$$\n",
    "\\lVert y - \\widehat{y} \\rVert_{L_{2}} \\leq \\lVert G - \\widehat{G} \\rVert_{\\mathcal{H}_{\\infty}} \\cdot \\lVert u \\rVert_{L_{2}},\n",
    "$$\n",
    "\n",
    "which bounds the error between the true time domain output signal and its approximation by the error we make in the approximation of the transfer function in the $\\mathcal{H}_{\\infty}$-norm and the energy that is given to the system via the input $u(t)$."
   ]
  },
  {
   "cell_type": "markdown",
   "metadata": {},
   "source": [
    "First, we check the asymptotic stability by computing the eigenvalues of the reduced-order matrix pencil $\\lambda \\widehat{\\mathbf{E}} - \\widehat{\\mathbf{A}}$. If all eigenvalues lie in the open left half-plane, the model is asymptotically stable. It may happen that your reduced-order model is not stable. In this case, try to change the order of the model via the relative tolerance above and recompute."
   ]
  },
  {
   "cell_type": "code",
   "execution_count": null,
   "metadata": {},
   "outputs": [],
   "source": [
    "# Compute the eigenvalues.\n",
    "eigs = spla.eigvals(Ar, Er)\n",
    "\n",
    "# Visualize the eigenvalues in the complex plane.\n",
    "utils.plot_eigenvalues(eigs)\n",
    "plt.show()"
   ]
  },
  {
   "cell_type": "markdown",
   "metadata": {},
   "source": [
    "For asymptotically stable models with real coefficients, the $\\mathcal{H}_{\\infty}$-norm is defined to as\n",
    "\n",
    "$$\n",
    "\\lVert G \\rVert_{\\mathcal{H}_{\\infty}} = \\sup_{\\omega > 0} \\lVert G(\\mathfrak{j} \\omega) \\rVert_{2}.\n",
    "$$\n",
    "\n",
    "We can use the frequency responses computed earlier and take the maximum error over these, which will be a highly accurate approximation to the $\\mathcal{H}_{\\infty}$-norm error."
   ]
  },
  {
   "cell_type": "code",
   "execution_count": null,
   "metadata": {},
   "outputs": [],
   "source": [
    "hinf_err = np.max(np.abs(test_responses_fom - test_responses_rom))\n",
    "\n",
    "print(\"Approximate H-infinity error: \", hinf_err)"
   ]
  },
  {
   "cell_type": "markdown",
   "metadata": {},
   "source": [
    "With the model being asymptotically stable and a small $\\mathcal{H}_{\\infty}$-norm error, we know that for admissible input signals $u(t)$, the simulations computed with the reduced-order model will be highly accurate approximations of the true behavior of the thermal diffusion process $(5.1)$. As final task in this example, we compute a time simulation using the reduced-order model for a sinusoidal input signal."
   ]
  },
  {
   "cell_type": "code",
   "execution_count": null,
   "metadata": {},
   "outputs": [],
   "source": [
    "# Compute time simulation.\n",
    "test_simulation = loewner_model.time_simulation(\n",
    "    t_span = [0, 10],\n",
    "    q0     = np.zeros((r,)),\n",
    "    input  = lambda t: np.sin(t)\n",
    ")\n",
    "\n",
    "utils.plot_simulation(test_simulation)\n",
    "plt.show()"
   ]
  },
  {
   "cell_type": "markdown",
   "metadata": {},
   "source": [
    "Physically the simulation results make a lot of sense since we have applied a sinusoidal input signal and the offset in the beginning results from the fact that the heat inflow happens at the opposite end of the point where we measure the temperature."
   ]
  }
 ],
 "metadata": {
  "kernelspec": {
   "display_name": "Python 3",
   "language": "python",
   "name": "python3"
  },
  "language_info": {
   "codemirror_mode": {
    "name": "ipython",
    "version": 3
   },
   "file_extension": ".py",
   "mimetype": "text/x-python",
   "name": "python",
   "nbconvert_exporter": "python",
   "pygments_lexer": "ipython3",
   "version": "3.10.11"
  }
 },
 "nbformat": 4,
 "nbformat_minor": 2
}
